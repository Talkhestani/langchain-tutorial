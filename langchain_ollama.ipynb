{
 "cells": [
  {
   "cell_type": "code",
   "execution_count": null,
   "id": "8f2c0bb9",
   "metadata": {},
   "outputs": [],
   "source": [
    "from langchain.document_loaders import TextLoader"
   ]
  },
  {
   "cell_type": "code",
   "execution_count": 8,
   "id": "bc35f451",
   "metadata": {},
   "outputs": [
    {
     "name": "stdout",
     "output_type": "stream",
     "text": [
      "Requirement already satisfied: langchain-text-splitters in c:\\users\\talkhestani\\desktop\\langchain-tutorial\\venv\\lib\\site-packages (0.3.8)\n",
      "Requirement already satisfied: langchain-core<1.0.0,>=0.3.51 in c:\\users\\talkhestani\\desktop\\langchain-tutorial\\venv\\lib\\site-packages (from langchain-text-splitters) (0.3.69)\n",
      "Requirement already satisfied: langsmith>=0.3.45 in c:\\users\\talkhestani\\desktop\\langchain-tutorial\\venv\\lib\\site-packages (from langchain-core<1.0.0,>=0.3.51->langchain-text-splitters) (0.4.7)\n",
      "Requirement already satisfied: tenacity!=8.4.0,<10.0.0,>=8.1.0 in c:\\users\\talkhestani\\desktop\\langchain-tutorial\\venv\\lib\\site-packages (from langchain-core<1.0.0,>=0.3.51->langchain-text-splitters) (9.1.2)\n",
      "Requirement already satisfied: jsonpatch<2.0,>=1.33 in c:\\users\\talkhestani\\desktop\\langchain-tutorial\\venv\\lib\\site-packages (from langchain-core<1.0.0,>=0.3.51->langchain-text-splitters) (1.33)\n",
      "Requirement already satisfied: PyYAML>=5.3 in c:\\users\\talkhestani\\desktop\\langchain-tutorial\\venv\\lib\\site-packages (from langchain-core<1.0.0,>=0.3.51->langchain-text-splitters) (6.0.2)\n",
      "Requirement already satisfied: typing-extensions>=4.7 in c:\\users\\talkhestani\\desktop\\langchain-tutorial\\venv\\lib\\site-packages (from langchain-core<1.0.0,>=0.3.51->langchain-text-splitters) (4.14.1)\n",
      "Requirement already satisfied: packaging>=23.2 in c:\\users\\talkhestani\\desktop\\langchain-tutorial\\venv\\lib\\site-packages (from langchain-core<1.0.0,>=0.3.51->langchain-text-splitters) (25.0)\n",
      "Requirement already satisfied: pydantic>=2.7.4 in c:\\users\\talkhestani\\desktop\\langchain-tutorial\\venv\\lib\\site-packages (from langchain-core<1.0.0,>=0.3.51->langchain-text-splitters) (2.11.7)\n",
      "Requirement already satisfied: jsonpointer>=1.9 in c:\\users\\talkhestani\\desktop\\langchain-tutorial\\venv\\lib\\site-packages (from jsonpatch<2.0,>=1.33->langchain-core<1.0.0,>=0.3.51->langchain-text-splitters) (3.0.0)\n",
      "Requirement already satisfied: httpx<1,>=0.23.0 in c:\\users\\talkhestani\\desktop\\langchain-tutorial\\venv\\lib\\site-packages (from langsmith>=0.3.45->langchain-core<1.0.0,>=0.3.51->langchain-text-splitters) (0.28.1)\n",
      "Requirement already satisfied: orjson<4.0.0,>=3.9.14 in c:\\users\\talkhestani\\desktop\\langchain-tutorial\\venv\\lib\\site-packages (from langsmith>=0.3.45->langchain-core<1.0.0,>=0.3.51->langchain-text-splitters) (3.11.0)\n",
      "Requirement already satisfied: requests<3,>=2 in c:\\users\\talkhestani\\desktop\\langchain-tutorial\\venv\\lib\\site-packages (from langsmith>=0.3.45->langchain-core<1.0.0,>=0.3.51->langchain-text-splitters) (2.32.4)\n",
      "Requirement already satisfied: requests-toolbelt<2.0.0,>=1.0.0 in c:\\users\\talkhestani\\desktop\\langchain-tutorial\\venv\\lib\\site-packages (from langsmith>=0.3.45->langchain-core<1.0.0,>=0.3.51->langchain-text-splitters) (1.0.0)\n",
      "Requirement already satisfied: zstandard<0.24.0,>=0.23.0 in c:\\users\\talkhestani\\desktop\\langchain-tutorial\\venv\\lib\\site-packages (from langsmith>=0.3.45->langchain-core<1.0.0,>=0.3.51->langchain-text-splitters) (0.23.0)\n",
      "Requirement already satisfied: anyio in c:\\users\\talkhestani\\desktop\\langchain-tutorial\\venv\\lib\\site-packages (from httpx<1,>=0.23.0->langsmith>=0.3.45->langchain-core<1.0.0,>=0.3.51->langchain-text-splitters) (4.9.0)\n",
      "Requirement already satisfied: certifi in c:\\users\\talkhestani\\desktop\\langchain-tutorial\\venv\\lib\\site-packages (from httpx<1,>=0.23.0->langsmith>=0.3.45->langchain-core<1.0.0,>=0.3.51->langchain-text-splitters) (2025.7.14)\n",
      "Requirement already satisfied: httpcore==1.* in c:\\users\\talkhestani\\desktop\\langchain-tutorial\\venv\\lib\\site-packages (from httpx<1,>=0.23.0->langsmith>=0.3.45->langchain-core<1.0.0,>=0.3.51->langchain-text-splitters) (1.0.9)\n",
      "Requirement already satisfied: idna in c:\\users\\talkhestani\\desktop\\langchain-tutorial\\venv\\lib\\site-packages (from httpx<1,>=0.23.0->langsmith>=0.3.45->langchain-core<1.0.0,>=0.3.51->langchain-text-splitters) (3.10)\n",
      "Requirement already satisfied: h11>=0.16 in c:\\users\\talkhestani\\desktop\\langchain-tutorial\\venv\\lib\\site-packages (from httpcore==1.*->httpx<1,>=0.23.0->langsmith>=0.3.45->langchain-core<1.0.0,>=0.3.51->langchain-text-splitters) (0.16.0)\n",
      "Requirement already satisfied: annotated-types>=0.6.0 in c:\\users\\talkhestani\\desktop\\langchain-tutorial\\venv\\lib\\site-packages (from pydantic>=2.7.4->langchain-core<1.0.0,>=0.3.51->langchain-text-splitters) (0.7.0)\n",
      "Requirement already satisfied: pydantic-core==2.33.2 in c:\\users\\talkhestani\\desktop\\langchain-tutorial\\venv\\lib\\site-packages (from pydantic>=2.7.4->langchain-core<1.0.0,>=0.3.51->langchain-text-splitters) (2.33.2)\n",
      "Requirement already satisfied: typing-inspection>=0.4.0 in c:\\users\\talkhestani\\desktop\\langchain-tutorial\\venv\\lib\\site-packages (from pydantic>=2.7.4->langchain-core<1.0.0,>=0.3.51->langchain-text-splitters) (0.4.1)\n",
      "Requirement already satisfied: charset_normalizer<4,>=2 in c:\\users\\talkhestani\\desktop\\langchain-tutorial\\venv\\lib\\site-packages (from requests<3,>=2->langsmith>=0.3.45->langchain-core<1.0.0,>=0.3.51->langchain-text-splitters) (3.4.2)\n",
      "Requirement already satisfied: urllib3<3,>=1.21.1 in c:\\users\\talkhestani\\desktop\\langchain-tutorial\\venv\\lib\\site-packages (from requests<3,>=2->langsmith>=0.3.45->langchain-core<1.0.0,>=0.3.51->langchain-text-splitters) (2.5.0)\n",
      "Requirement already satisfied: sniffio>=1.1 in c:\\users\\talkhestani\\desktop\\langchain-tutorial\\venv\\lib\\site-packages (from anyio->httpx<1,>=0.23.0->langsmith>=0.3.45->langchain-core<1.0.0,>=0.3.51->langchain-text-splitters) (1.3.1)\n",
      "Note: you may need to restart the kernel to use updated packages.\n"
     ]
    }
   ],
   "source": [
    "%pip install langchain-text-splitters"
   ]
  },
  {
   "cell_type": "code",
   "execution_count": null,
   "id": "b955bea5",
   "metadata": {},
   "outputs": [
    {
     "name": "stdout",
     "output_type": "stream",
     "text": [
      "[Document(metadata={'source': 'sample.txt'}, page_content='Avicenna, also known as Ibn Sina, was one of the greatest Persian scientists and philosophers of the medieval period. He was born in 980 AD in Bukhara (present-day Uzbekistan) and died in 1037 AD in Hamadan.\\n\\nHe specialized in medicine, philosophy, mathematics, and astronomy. His most famous work, *The Canon of Medicine*, was taught in European universities for several centuries.\\n\\nAvicenna wrote more than 450 books and treatises, of which around 240 have survived. Along with Rhazes, he is considered one of the founders of modern medicine.\\n')]\n"
     ]
    }
   ],
   "source": [
    "loader = TextLoader(\"sample.txt\")\n",
    "data = loader.load()"
   ]
  },
  {
   "cell_type": "code",
   "execution_count": 17,
   "id": "8673d4e1",
   "metadata": {},
   "outputs": [],
   "source": [
    "from langchain_text_splitters import RecursiveCharacterTextSplitter\n",
    "\n",
    "\n",
    "text_splitter = RecursiveCharacterTextSplitter(\n",
    "    chunk_size=250,\n",
    "    chunk_overlap=20\n",
    ")\n",
    "splitted_documents = text_splitter.split_documents(data)"
   ]
  },
  {
   "cell_type": "code",
   "execution_count": 18,
   "id": "455b974a",
   "metadata": {},
   "outputs": [],
   "source": [
    "from langchain.embeddings import OllamaEmbeddings\n",
    "\n",
    "embeddings = OllamaEmbeddings(model=\"mxbai-embed-large:latest\")"
   ]
  },
  {
   "cell_type": "code",
   "execution_count": 19,
   "id": "1144cd8d",
   "metadata": {},
   "outputs": [],
   "source": [
    "from langchain.vectorstores import Chroma\n",
    "\n",
    "\n",
    "vectorstore = Chroma.from_documents(splitted_documents, embeddings, persist_directory='./db')"
   ]
  },
  {
   "cell_type": "code",
   "execution_count": 20,
   "id": "018e2a5e",
   "metadata": {},
   "outputs": [
    {
     "data": {
      "text/plain": [
       "[Document(metadata={'source': 'sample.txt'}, page_content='Avicenna, also known as Ibn Sina, was one of the greatest Persian scientists and philosophers of the medieval period. He was born in 980 AD in Bukhara (present-day Uzbekistan) and died in 1037 AD in Hamadan.'),\n",
       " Document(metadata={'source': 'sample.txt'}, page_content='Avicenna, also known as Ibn Sina, was one of the greatest Persian scientists and philosophers of the'),\n",
       " Document(metadata={'source': 'sample.txt'}, page_content='Avicenna wrote more than 450 books and treatises, of which around 240 have survived. Along with'),\n",
       " Document(metadata={'source': 'sample.txt'}, page_content='Avicenna wrote more than 450 books and treatises, of which around 240 have survived. Along with Rhazes, he is considered one of the founders of modern medicine.')]"
      ]
     },
     "execution_count": 20,
     "metadata": {},
     "output_type": "execute_result"
    }
   ],
   "source": [
    "retriever = vectorstore.as_retriever()\n",
    "retriever.invoke(\"In what year was Avicenna born?\")"
   ]
  },
  {
   "cell_type": "code",
   "execution_count": 21,
   "id": "850956c9",
   "metadata": {},
   "outputs": [
    {
     "data": {
      "text/plain": [
       "[Document(metadata={'source': 'sample.txt'}, page_content='Avicenna, also known as Ibn Sina, was one of the greatest Persian scientists and philosophers of the medieval period. He was born in 980 AD in Bukhara (present-day Uzbekistan) and died in 1037 AD in Hamadan.'),\n",
       " Document(metadata={'source': 'sample.txt'}, page_content='Avicenna, also known as Ibn Sina, was one of the greatest Persian scientists and philosophers of the'),\n",
       " Document(metadata={'source': 'sample.txt'}, page_content='Avicenna wrote more than 450 books and treatises, of which around 240 have survived. Along with'),\n",
       " Document(metadata={'source': 'sample.txt'}, page_content='Avicenna wrote more than 450 books and treatises, of which around 240 have survived. Along with Rhazes, he is considered one of the founders of modern medicine.')]"
      ]
     },
     "execution_count": 21,
     "metadata": {},
     "output_type": "execute_result"
    }
   ],
   "source": [
    "vectorstore.similarity_search(\"In what year was Avicenna born?\")"
   ]
  },
  {
   "cell_type": "code",
   "execution_count": 22,
   "id": "89feba42",
   "metadata": {},
   "outputs": [
    {
     "data": {
      "text/plain": [
       "[(Document(metadata={'source': 'sample.txt'}, page_content='Avicenna, also known as Ibn Sina, was one of the greatest Persian scientists and philosophers of the medieval period. He was born in 980 AD in Bukhara (present-day Uzbekistan) and died in 1037 AD in Hamadan.'),\n",
       "  148.9939727783203),\n",
       " (Document(metadata={'source': 'sample.txt'}, page_content='Avicenna, also known as Ibn Sina, was one of the greatest Persian scientists and philosophers of the'),\n",
       "  172.8038330078125),\n",
       " (Document(metadata={'source': 'sample.txt'}, page_content='Avicenna wrote more than 450 books and treatises, of which around 240 have survived. Along with'),\n",
       "  176.81492614746094),\n",
       " (Document(metadata={'source': 'sample.txt'}, page_content='Avicenna wrote more than 450 books and treatises, of which around 240 have survived. Along with Rhazes, he is considered one of the founders of modern medicine.'),\n",
       "  177.467041015625)]"
      ]
     },
     "execution_count": 22,
     "metadata": {},
     "output_type": "execute_result"
    }
   ],
   "source": [
    "vectorstore.similarity_search_with_score(\"In what year was Avicenna born?\")"
   ]
  }
 ],
 "metadata": {
  "kernelspec": {
   "display_name": "Python 3",
   "language": "python",
   "name": "python3"
  },
  "language_info": {
   "codemirror_mode": {
    "name": "ipython",
    "version": 3
   },
   "file_extension": ".py",
   "mimetype": "text/x-python",
   "name": "python",
   "nbconvert_exporter": "python",
   "pygments_lexer": "ipython3",
   "version": "3.11.13"
  }
 },
 "nbformat": 4,
 "nbformat_minor": 5
}
